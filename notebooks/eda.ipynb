{
 "cells": [
  {
   "cell_type": "code",
   "execution_count": null,
   "id": "53eb8602",
   "metadata": {},
   "outputs": [
    {
     "name": "stdout",
     "output_type": "stream",
     "text": [
      "Added to sys.path: C:\\Users\\WT\\Desktop\\ChildSafe detc\n"
     ]
    }
   ],
   "source": [
    "import sys\n",
    "from pathlib import Path\n",
    "\n",
    "# Adding the repository root\n",
    "cwd = Path.cwd().resolve()\n",
    "repo_root = cwd if (cwd / \"src\").exists() else next((p for p in cwd.parents if (p / \"src\").exists()), cwd)\n",
    "sys.path.insert(0, str(repo_root))\n",
    "print('Added to sys.path:', repo_root)\n"
   ]
  },
  {
   "cell_type": "code",
   "execution_count": 15,
   "id": "d7d610ed",
   "metadata": {},
   "outputs": [],
   "source": [
    "import os\n",
    "import pandas as pd\n",
    "import matplotlib.pyplot as plt\n",
    "from src.data.synth_generator import generate\n",
    "\n",
    "# Ensure artifacts directory exists\n",
    "os.makedirs('artifacts', exist_ok=True)\n",
    "\n",
    "# Generate synthetic data\n",
    "df = generate()\n",
    "if 'is_child' not in df.columns:\n",
    "    raise KeyError(\"'is_child' column not found in generated dataframe\")\n",
    "\n",
    "feature_cols = [c for c in df.columns if c != 'is_child']\n",
    "for col in feature_cols:\n",
    "    plt.figure()\n",
    "    df[df['is_child'] == 1][col].hist(alpha=0.5, label='Child', bins=30)\n",
    "    df[df['is_child'] == 0][col].hist(alpha=0.5, label='Adult', bins=30)\n",
    "    plt.title(f'{col} Distribution')\n",
    "    plt.legend()\n",
    "    plt.savefig(f'artifacts/{col}_dist.png')\n",
    "    plt.close()\n"
   ]
  },
  {
   "cell_type": "code",
   "execution_count": 19,
   "id": "3c5507b4",
   "metadata": {},
   "outputs": [],
   "source": [
    "from sklearn.calibration import calibration_curve\n",
    "from src.evaluate import ensemble_predict\n",
    "import joblib\n",
    "import os\n",
    "import matplotlib.pyplot as plt\n",
    "\n",
    "model_path = '../src/artifacts/lgbm_ensemble.joblib'\n",
    "if not os.path.exists(model_path):\n",
    "    print(f\"Model not found at {model_path}. Skipping calibration plot.\")\n",
    "else:\n",
    "    models = joblib.load(model_path)\n",
    "    X, y = df.drop(columns=['is_child']), df['is_child']\n",
    "    probs = ensemble_predict(models, X)\n",
    "    prob_true, prob_pred = calibration_curve(y, probs, n_bins=10)\n",
    "    plt.figure()\n",
    "    plt.plot(prob_pred, prob_true, marker='.')\n",
    "    plt.plot([0, 1], [0, 1], linestyle='--')\n",
    "    plt.title('Calibration Plot')\n",
    "    plt.savefig('../src/artifacts/calibration.png')\n",
    "    plt.close()"
   ]
  }
 ],
 "metadata": {
  "kernelspec": {
   "display_name": "venv (3.12.8)",
   "language": "python",
   "name": "python3"
  },
  "language_info": {
   "codemirror_mode": {
    "name": "ipython",
    "version": 3
   },
   "file_extension": ".py",
   "mimetype": "text/x-python",
   "name": "python",
   "nbconvert_exporter": "python",
   "pygments_lexer": "ipython3",
   "version": "3.12.8"
  }
 },
 "nbformat": 4,
 "nbformat_minor": 5
}
